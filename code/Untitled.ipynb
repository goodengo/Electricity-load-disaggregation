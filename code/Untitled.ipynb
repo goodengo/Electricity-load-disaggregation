{
 "cells": [
  {
   "cell_type": "code",
   "execution_count": 10,
   "metadata": {
    "scrolled": false
   },
   "outputs": [
    {
     "name": "stdout",
     "output_type": "stream",
     "text": [
      "Creating data frame for channel_1\n",
      "Done\n",
      "Creating data frame for channel_12\n",
      "Done\n",
      "Creating data frame for channel_5\n",
      "Done\n",
      "Creating data frame for channel_3\n",
      "Done\n",
      "Creating data frame for channel_10\n",
      "Done\n",
      "Creating data frame for channel_6\n",
      "Done\n",
      "Creating data frame for channel_9\n",
      "Done\n",
      "Creating data frame for channel_43\n",
      "Done\n",
      "Creating data frame for channel_7\n",
      "Done\n",
      "Creating data frame for channel_8\n",
      "Done\n"
     ]
    }
   ],
   "source": [
    "run Data_preparation.py"
   ]
  },
  {
   "cell_type": "code",
   "execution_count": 5,
   "metadata": {
    "scrolled": true
   },
   "outputs": [
    {
     "name": "stdout",
     "output_type": "stream",
     "text": [
      "Fetching package metadata ...........\n"
     ]
    },
    {
     "name": "stderr",
     "output_type": "stream",
     "text": [
      "\n",
      "PackageNotFoundError: Package missing in current win-64 channels: \n",
      "  - hmmlearn\n",
      "\n"
     ]
    }
   ],
   "source": [
    "!conda install hmmlearn"
   ]
  },
  {
   "cell_type": "code",
   "execution_count": null,
   "metadata": {
    "collapsed": true
   },
   "outputs": [],
   "source": [
    "!conda install -c omnia hmmlearn"
   ]
  },
  {
   "cell_type": "code",
   "execution_count": 1,
   "metadata": {},
   "outputs": [
    {
     "name": "stdout",
     "output_type": "stream",
     "text": [
      "                     channel_8  channel_43  channel_9  channel_6  channel_10  \\\n",
      "date                                                                           \n",
      "2013-06-01 00:00:00        0.0   14.111111   2.000000        1.0         1.0   \n",
      "2013-06-01 00:01:00        0.0   14.111111   2.000000        1.0         1.0   \n",
      "2013-06-01 00:02:00        0.0   14.000000   2.111111        1.0         1.0   \n",
      "2013-06-01 00:03:00        0.0   14.000000   2.000000        1.0         1.0   \n",
      "2013-06-01 00:04:00        0.0   14.222222   2.000000        1.0         1.0   \n",
      "\n",
      "                     channel_3  channel_5  channel_12  \n",
      "date                                                   \n",
      "2013-06-01 00:00:00  46.100000        0.0   83.700000  \n",
      "2013-06-01 00:01:00  46.111111        0.0   88.333333  \n",
      "2013-06-01 00:02:00  46.142857        0.0   88.333333  \n",
      "2013-06-01 00:03:00  46.300000        0.0   89.111111  \n",
      "2013-06-01 00:04:00  46.200000        0.0   89.111111  \n",
      "channel_12\n",
      "Looking for optimal number of states and fitting HMM\n"
     ]
    },
    {
     "name": "stderr",
     "output_type": "stream",
     "text": [
      "C:\\ProgramData\\Anaconda3\\lib\\site-packages\\sklearn\\utils\\deprecation.py:70: DeprecationWarning: Function distribute_covar_matrix_to_match_covariance_type is deprecated; The functon distribute_covar_matrix_to_match_covariance_typeis deprecated in 0.18 and will be removed in 0.20.\n",
      "  warnings.warn(msg, category=DeprecationWarning)\n",
      "C:\\ProgramData\\Anaconda3\\lib\\site-packages\\sklearn\\utils\\deprecation.py:70: DeprecationWarning: Function distribute_covar_matrix_to_match_covariance_type is deprecated; The functon distribute_covar_matrix_to_match_covariance_typeis deprecated in 0.18 and will be removed in 0.20.\n",
      "  warnings.warn(msg, category=DeprecationWarning)\n",
      "C:\\ProgramData\\Anaconda3\\lib\\site-packages\\sklearn\\utils\\deprecation.py:70: DeprecationWarning: Function distribute_covar_matrix_to_match_covariance_type is deprecated; The functon distribute_covar_matrix_to_match_covariance_typeis deprecated in 0.18 and will be removed in 0.20.\n",
      "  warnings.warn(msg, category=DeprecationWarning)\n"
     ]
    },
    {
     "name": "stdout",
     "output_type": "stream",
     "text": [
      "Done. Lowest error of 0.4668162180052704 achieved with 4 states\n",
      "channel_5\n",
      "Looking for optimal number of states and fitting HMM\n"
     ]
    },
    {
     "name": "stderr",
     "output_type": "stream",
     "text": [
      "C:\\ProgramData\\Anaconda3\\lib\\site-packages\\sklearn\\utils\\deprecation.py:70: DeprecationWarning: Function distribute_covar_matrix_to_match_covariance_type is deprecated; The functon distribute_covar_matrix_to_match_covariance_typeis deprecated in 0.18 and will be removed in 0.20.\n",
      "  warnings.warn(msg, category=DeprecationWarning)\n",
      "C:\\ProgramData\\Anaconda3\\lib\\site-packages\\sklearn\\utils\\deprecation.py:70: DeprecationWarning: Function distribute_covar_matrix_to_match_covariance_type is deprecated; The functon distribute_covar_matrix_to_match_covariance_typeis deprecated in 0.18 and will be removed in 0.20.\n",
      "  warnings.warn(msg, category=DeprecationWarning)\n",
      "C:\\ProgramData\\Anaconda3\\lib\\site-packages\\sklearn\\utils\\deprecation.py:70: DeprecationWarning: Function distribute_covar_matrix_to_match_covariance_type is deprecated; The functon distribute_covar_matrix_to_match_covariance_typeis deprecated in 0.18 and will be removed in 0.20.\n",
      "  warnings.warn(msg, category=DeprecationWarning)\n"
     ]
    },
    {
     "name": "stdout",
     "output_type": "stream",
     "text": [
      "Done. Lowest error of 0.7085103338660068 achieved with 4 states\n",
      "channel_6\n",
      "Looking for optimal number of states and fitting HMM\n"
     ]
    },
    {
     "name": "stderr",
     "output_type": "stream",
     "text": [
      "C:\\ProgramData\\Anaconda3\\lib\\site-packages\\sklearn\\utils\\deprecation.py:70: DeprecationWarning: Function distribute_covar_matrix_to_match_covariance_type is deprecated; The functon distribute_covar_matrix_to_match_covariance_typeis deprecated in 0.18 and will be removed in 0.20.\n",
      "  warnings.warn(msg, category=DeprecationWarning)\n",
      "C:\\ProgramData\\Anaconda3\\lib\\site-packages\\sklearn\\utils\\deprecation.py:70: DeprecationWarning: Function distribute_covar_matrix_to_match_covariance_type is deprecated; The functon distribute_covar_matrix_to_match_covariance_typeis deprecated in 0.18 and will be removed in 0.20.\n",
      "  warnings.warn(msg, category=DeprecationWarning)\n",
      "C:\\ProgramData\\Anaconda3\\lib\\site-packages\\sklearn\\utils\\deprecation.py:70: DeprecationWarning: Function distribute_covar_matrix_to_match_covariance_type is deprecated; The functon distribute_covar_matrix_to_match_covariance_typeis deprecated in 0.18 and will be removed in 0.20.\n",
      "  warnings.warn(msg, category=DeprecationWarning)\n"
     ]
    },
    {
     "name": "stdout",
     "output_type": "stream",
     "text": [
      "Done. Lowest error of 0.8424679411397509 achieved with 4 states\n",
      "channel_3\n",
      "Looking for optimal number of states and fitting HMM\n"
     ]
    },
    {
     "name": "stderr",
     "output_type": "stream",
     "text": [
      "C:\\ProgramData\\Anaconda3\\lib\\site-packages\\sklearn\\utils\\deprecation.py:70: DeprecationWarning: Function distribute_covar_matrix_to_match_covariance_type is deprecated; The functon distribute_covar_matrix_to_match_covariance_typeis deprecated in 0.18 and will be removed in 0.20.\n",
      "  warnings.warn(msg, category=DeprecationWarning)\n",
      "C:\\ProgramData\\Anaconda3\\lib\\site-packages\\sklearn\\utils\\deprecation.py:70: DeprecationWarning: Function distribute_covar_matrix_to_match_covariance_type is deprecated; The functon distribute_covar_matrix_to_match_covariance_typeis deprecated in 0.18 and will be removed in 0.20.\n",
      "  warnings.warn(msg, category=DeprecationWarning)\n",
      "C:\\ProgramData\\Anaconda3\\lib\\site-packages\\sklearn\\utils\\deprecation.py:70: DeprecationWarning: Function distribute_covar_matrix_to_match_covariance_type is deprecated; The functon distribute_covar_matrix_to_match_covariance_typeis deprecated in 0.18 and will be removed in 0.20.\n",
      "  warnings.warn(msg, category=DeprecationWarning)\n"
     ]
    },
    {
     "name": "stdout",
     "output_type": "stream",
     "text": [
      "Done. Lowest error of 0.4759004111504116 achieved with 3 states\n",
      "Training model for appliance channel_12 with 4 hidden states\n"
     ]
    },
    {
     "name": "stderr",
     "output_type": "stream",
     "text": [
      "C:\\ProgramData\\Anaconda3\\lib\\site-packages\\sklearn\\utils\\deprecation.py:70: DeprecationWarning: Function distribute_covar_matrix_to_match_covariance_type is deprecated; The functon distribute_covar_matrix_to_match_covariance_typeis deprecated in 0.18 and will be removed in 0.20.\n",
      "  warnings.warn(msg, category=DeprecationWarning)\n"
     ]
    },
    {
     "name": "stdout",
     "output_type": "stream",
     "text": [
      "Training model for appliance channel_5 with 4 hidden states\n"
     ]
    },
    {
     "name": "stderr",
     "output_type": "stream",
     "text": [
      "C:\\ProgramData\\Anaconda3\\lib\\site-packages\\sklearn\\utils\\deprecation.py:70: DeprecationWarning: Function distribute_covar_matrix_to_match_covariance_type is deprecated; The functon distribute_covar_matrix_to_match_covariance_typeis deprecated in 0.18 and will be removed in 0.20.\n",
      "  warnings.warn(msg, category=DeprecationWarning)\n"
     ]
    },
    {
     "name": "stdout",
     "output_type": "stream",
     "text": [
      "Training model for appliance channel_6 with 4 hidden states\n"
     ]
    },
    {
     "name": "stderr",
     "output_type": "stream",
     "text": [
      "C:\\ProgramData\\Anaconda3\\lib\\site-packages\\sklearn\\utils\\deprecation.py:70: DeprecationWarning: Function distribute_covar_matrix_to_match_covariance_type is deprecated; The functon distribute_covar_matrix_to_match_covariance_typeis deprecated in 0.18 and will be removed in 0.20.\n",
      "  warnings.warn(msg, category=DeprecationWarning)\n"
     ]
    },
    {
     "name": "stdout",
     "output_type": "stream",
     "text": [
      "Training model for appliance channel_3 with 3 hidden states\n"
     ]
    },
    {
     "name": "stderr",
     "output_type": "stream",
     "text": [
      "C:\\ProgramData\\Anaconda3\\lib\\site-packages\\sklearn\\utils\\deprecation.py:70: DeprecationWarning: Function distribute_covar_matrix_to_match_covariance_type is deprecated; The functon distribute_covar_matrix_to_match_covariance_typeis deprecated in 0.18 and will be removed in 0.20.\n",
      "  warnings.warn(msg, category=DeprecationWarning)\n"
     ]
    },
    {
     "name": "stdout",
     "output_type": "stream",
     "text": [
      "Disaggregated 1.0 day(s) of data\n",
      "Disaggregated 2.0 day(s) of data\n",
      "Disaggregated 3.0 day(s) of data\n",
      "Disaggregated 4.0 day(s) of data\n",
      "Disaggregated 5.0 day(s) of data\n",
      "Disaggregated 6.0 day(s) of data\n",
      "Disaggregated 7.0 day(s) of data\n",
      "Disaggregated 8.0 day(s) of data\n",
      "Disaggregated 9.0 day(s) of data\n",
      "Disaggregated 10.0 day(s) of data\n",
      "Disaggregated 11.0 day(s) of data\n",
      "Disaggregated 12.0 day(s) of data\n",
      "Disaggregated 13.0 day(s) of data\n",
      "Disaggregated 14.0 day(s) of data\n",
      "Disaggregated 15.0 day(s) of data\n",
      "Disaggregated 16.0 day(s) of data\n",
      "Disaggregated 17.0 day(s) of data\n",
      "Disaggregated 18.0 day(s) of data\n",
      "Disaggregated 19.0 day(s) of data\n",
      "Disaggregated 20.0 day(s) of data\n",
      "Disaggregated 21.0 day(s) of data\n",
      "Disaggregated 22.0 day(s) of data\n",
      "Disaggregated 23.0 day(s) of data\n",
      "Disaggregated 24.0 day(s) of data\n",
      "Disaggregated 25.0 day(s) of data\n",
      "Disaggregated 26.0 day(s) of data\n",
      "Disaggregated 27.0 day(s) of data\n",
      "Disaggregated 28.0 day(s) of data\n",
      "Disaggregated 29.0 day(s) of data\n",
      "Percent stand.dev.explained, 1 min: {'channel_12': 0.20112839984513686, 'channel_3': 0.44454031863277443, 'channel_5': 0.6237214714613617, 'channel_6': 0.6634666731090992}\n",
      "R2, 1 min: {'channel_12': 0.36180416646600844, 'channel_3': 0.69146454237542021, 'channel_5': 0.85841446896079721, 'channel_6': 0.8867453198917421}\n",
      "Percent stand.dev.explained, 15 min: {'channel_12': 0.28457351765879757, 'channel_3': 0.5939532141352251, 'channel_5': 0.7480397575906162, 'channel_6': 0.7554850195725928}\n",
      "R2, 15 min: {'channel_12': 0.48816494836489321, 'channel_3': 0.83512600768888556, 'channel_5': 0.93651603624500457, 'channel_6': 0.9402124243465847}\n"
     ]
    }
   ],
   "source": [
    "run run_model.py"
   ]
  },
  {
   "cell_type": "code",
   "execution_count": null,
   "metadata": {
    "collapsed": true
   },
   "outputs": [],
   "source": []
  },
  {
   "cell_type": "code",
   "execution_count": null,
   "metadata": {
    "collapsed": true
   },
   "outputs": [],
   "source": []
  }
 ],
 "metadata": {
  "kernelspec": {
   "display_name": "Python 3",
   "language": "python",
   "name": "python3"
  },
  "language_info": {
   "codemirror_mode": {
    "name": "ipython",
    "version": 3
   },
   "file_extension": ".py",
   "mimetype": "text/x-python",
   "name": "python",
   "nbconvert_exporter": "python",
   "pygments_lexer": "ipython3",
   "version": "3.6.1"
  }
 },
 "nbformat": 4,
 "nbformat_minor": 2
}
