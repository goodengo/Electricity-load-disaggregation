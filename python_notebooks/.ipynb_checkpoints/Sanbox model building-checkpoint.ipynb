{
 "cells": [
  {
   "cell_type": "code",
   "execution_count": 2,
   "metadata": {},
   "outputs": [],
   "source": [
    "import pandas as pd\n",
    "import numpy as np\n",
    "from matplotlib import cm, pyplot as plt\n",
    "from matplotlib.dates import YearLocator, MonthLocator\n",
    "import cPickle as pk\n",
    "from hmmlearn.hmm import GaussianHMM\n",
    "from sklearn.cluster import KMeans\n",
    "\n",
    "%matplotlib inline"
   ]
  },
  {
   "cell_type": "code",
   "execution_count": 2,
   "metadata": {},
   "outputs": [],
   "source": [
    "with open('/Users/nelly/Galvanize/Capstone/Electricity-load-prediction/data/house_1/4app_train.pkl') as f:\n",
    "    four_app_train = pk.load(f)\n",
    "with open('/Users/nelly/Galvanize/Capstone/Electricity-load-prediction/data/house_1/4app_test.pkl') as f:\n",
    "    four_app_test = pk.load(f)"
   ]
  },
  {
   "cell_type": "code",
   "execution_count": 3,
   "metadata": {},
   "outputs": [
    {
     "data": {
      "text/html": [
       "<div>\n",
       "<table border=\"1\" class=\"dataframe\">\n",
       "  <thead>\n",
       "    <tr style=\"text-align: right;\">\n",
       "      <th></th>\n",
       "      <th>channel_12</th>\n",
       "      <th>channel_12_diff</th>\n",
       "      <th>channel_5</th>\n",
       "      <th>channel_5_diff</th>\n",
       "      <th>channel_7</th>\n",
       "      <th>channel_7_diff</th>\n",
       "      <th>channel_6</th>\n",
       "      <th>channel_6_diff</th>\n",
       "    </tr>\n",
       "    <tr>\n",
       "      <th>date</th>\n",
       "      <th></th>\n",
       "      <th></th>\n",
       "      <th></th>\n",
       "      <th></th>\n",
       "      <th></th>\n",
       "      <th></th>\n",
       "      <th></th>\n",
       "      <th></th>\n",
       "    </tr>\n",
       "  </thead>\n",
       "  <tbody>\n",
       "    <tr>\n",
       "      <th>2013-08-01 00:00:00</th>\n",
       "      <td>91.777778</td>\n",
       "      <td>0.000000</td>\n",
       "      <td>0.0</td>\n",
       "      <td>0.0</td>\n",
       "      <td>1.000000</td>\n",
       "      <td>0.000000</td>\n",
       "      <td>0.0</td>\n",
       "      <td>0.0</td>\n",
       "    </tr>\n",
       "    <tr>\n",
       "      <th>2013-08-01 00:01:00</th>\n",
       "      <td>91.428571</td>\n",
       "      <td>-0.349206</td>\n",
       "      <td>0.0</td>\n",
       "      <td>0.0</td>\n",
       "      <td>1.000000</td>\n",
       "      <td>0.000000</td>\n",
       "      <td>0.0</td>\n",
       "      <td>0.0</td>\n",
       "    </tr>\n",
       "    <tr>\n",
       "      <th>2013-08-01 00:02:00</th>\n",
       "      <td>91.875000</td>\n",
       "      <td>0.446429</td>\n",
       "      <td>0.0</td>\n",
       "      <td>0.0</td>\n",
       "      <td>1.000000</td>\n",
       "      <td>0.000000</td>\n",
       "      <td>0.0</td>\n",
       "      <td>0.0</td>\n",
       "    </tr>\n",
       "    <tr>\n",
       "      <th>2013-08-01 00:03:00</th>\n",
       "      <td>92.000000</td>\n",
       "      <td>0.125000</td>\n",
       "      <td>0.0</td>\n",
       "      <td>0.0</td>\n",
       "      <td>1.000000</td>\n",
       "      <td>0.000000</td>\n",
       "      <td>0.0</td>\n",
       "      <td>0.0</td>\n",
       "    </tr>\n",
       "    <tr>\n",
       "      <th>2013-08-01 00:04:00</th>\n",
       "      <td>92.000000</td>\n",
       "      <td>0.000000</td>\n",
       "      <td>0.0</td>\n",
       "      <td>0.0</td>\n",
       "      <td>0.888889</td>\n",
       "      <td>-0.111111</td>\n",
       "      <td>0.0</td>\n",
       "      <td>0.0</td>\n",
       "    </tr>\n",
       "  </tbody>\n",
       "</table>\n",
       "</div>"
      ],
      "text/plain": [
       "                     channel_12  channel_12_diff  channel_5  channel_5_diff  \\\n",
       "date                                                                          \n",
       "2013-08-01 00:00:00   91.777778         0.000000        0.0             0.0   \n",
       "2013-08-01 00:01:00   91.428571        -0.349206        0.0             0.0   \n",
       "2013-08-01 00:02:00   91.875000         0.446429        0.0             0.0   \n",
       "2013-08-01 00:03:00   92.000000         0.125000        0.0             0.0   \n",
       "2013-08-01 00:04:00   92.000000         0.000000        0.0             0.0   \n",
       "\n",
       "                     channel_7  channel_7_diff  channel_6  channel_6_diff  \n",
       "date                                                                       \n",
       "2013-08-01 00:00:00   1.000000        0.000000        0.0             0.0  \n",
       "2013-08-01 00:01:00   1.000000        0.000000        0.0             0.0  \n",
       "2013-08-01 00:02:00   1.000000        0.000000        0.0             0.0  \n",
       "2013-08-01 00:03:00   1.000000        0.000000        0.0             0.0  \n",
       "2013-08-01 00:04:00   0.888889       -0.111111        0.0             0.0  "
      ]
     },
     "execution_count": 3,
     "metadata": {},
     "output_type": "execute_result"
    }
   ],
   "source": [
    "four_app_train.fillna(value = 0,inplace = True)\n",
    "four_app_test.fillna(value = 0,inplace = True)\n",
    "four_app_test.head()"
   ]
  },
  {
   "cell_type": "code",
   "execution_count": 8,
   "metadata": {},
   "outputs": [
    {
     "data": {
      "text/plain": [
       "(44640, 2)"
      ]
     },
     "execution_count": 8,
     "metadata": {},
     "output_type": "execute_result"
    }
   ],
   "source": [
    "X_train = four_app_train[['channel_12','channel_12_diff']].values\n",
    "X_test = four_app_test[['channel_12','channel_12_diff']].values\n",
    "X_train.shape"
   ]
  },
  {
   "cell_type": "markdown",
   "metadata": {},
   "source": [
    "# Apply K-means to identify possible number of states"
   ]
  },
  {
   "cell_type": "code",
   "execution_count": 68,
   "metadata": {},
   "outputs": [
    {
     "data": {
      "image/png": "[encoded data removed]",
      "text/plain": [
       "<matplotlib.figure.Figure at 0x1108c7310>"
      ]
     },
     "metadata": {},
     "output_type": "display_data"
    }
   ],
   "source": [
    "def fit_Kmeans(X_train,X_test, n_clusters):\n",
    "    kmeans = KMeans(n_clusters = n_clusters).fit(X_train)\n",
    "    centroids = kmeans.cluster_centers_ \n",
    "    pred_train = kmeans.predict(X_train)\n",
    "    pred_test = kmeans.predict(X_test)\n",
    "    SSE_train = np.sum([(X_train[idx] - centroids[pred_train[idx]])**2 for idx in xrange(len(X_train))])\n",
    "    SSE_test = np.sum([(X_test[idx] - centroids[pred_test[idx]])**2 for idx in xrange(len(X_test))])\n",
    "    \n",
    "    return kmeans, SSE_train, SSE_test\n",
    "\n",
    "\n",
    "cluster_list = xrange(1,8)\n",
    "train_error = []\n",
    "test_error = []\n",
    "\n",
    "for c in cluster_list:\n",
    "    _, SSE_train, SSE_test = fit_Kmeans(X_train,X_test, c)\n",
    "    train_error.append(SSE_train)\n",
    "    test_error.append(SSE_test)\n",
    "\n",
    "plt.plot(cluster_list, train_error)\n",
    "plt.plot(cluster_list, test_error)\n",
    "plt.show()"
   ]
  },
  {
   "cell_type": "code",
   "execution_count": 117,
   "metadata": {},
   "outputs": [
    {
     "name": "stdout",
     "output_type": "stream",
     "text": [
      "fitting to HMM and decoding ...\n",
      "[[  8.28328824e+01  -8.53125853e-06]\n",
      " [  0.00000000e+00   0.00000000e+00]]\n",
      "done\n"
     ]
    }
   ],
   "source": [
    "n_states = 2\n",
    "print \"fitting to HMM and decoding ...\"\n",
    "\n",
    "# Make an HMM instance and execute fit\n",
    "model = GaussianHMM(n_components=n_states, covariance_type=\"diag\", n_iter=10000)\n",
    "model.fit(X_train)\n",
    "state_means = model.means_\n",
    "print state_means\n",
    "# Predict the optimal sequence of internal hidden state\n",
    "hidden_states_train = model.predict(X_train)\n",
    "hidden_states_test = model.predict(X_test)\n",
    "\n",
    "\n",
    "print \"done\""
   ]
  },
  {
   "cell_type": "code",
   "execution_count": 76,
   "metadata": {
    "scrolled": true
   },
   "outputs": [],
   "source": [
    "def HMM_accuracy(obs_levels,hidden_states,state_means):\n",
    "    predict_levels = [state_means[state] for state in hidden_states]\n",
    "    test_error = 1 - (np.sum(obs_levels) - np.sum(predict_levels))/np.sum(obs_levels)\n",
    "    return test_error"
   ]
  },
  {
   "cell_type": "code",
   "execution_count": 84,
   "metadata": {},
   "outputs": [
    {
     "name": "stdout",
     "output_type": "stream",
     "text": [
      "0.959335759841\n"
     ]
    }
   ],
   "source": [
    "state_means = state_means[:,0].flatten()\n",
    "print HMM_accuracy(X_test[:,0],hidden_states_test,state_means)"
   ]
  },
  {
   "cell_type": "code",
   "execution_count": 1,
   "metadata": {},
   "outputs": [
    {
     "name": "stderr",
     "output_type": "stream",
     "text": [
      "/Users/nelly/anaconda/lib/python2.7/site-packages/pandas/computation/__init__.py:19: UserWarning: The installed version of numexpr 2.4.4 is not supported in pandas and will be not be used\n",
      "\n",
      "  UserWarning)\n"
     ]
    }
   ],
   "source": [
    "from BuildModel import HMM"
   ]
  },
  {
   "cell_type": "code",
   "execution_count": 4,
   "metadata": {},
   "outputs": [
    {
     "name": "stdout",
     "output_type": "stream",
     "text": [
      "fitting to HMM and decoding ...\n",
      "done\n",
      "Accuracy for the model with 2 hidden states is: 0.964702444203\n"
     ]
    }
   ],
   "source": [
    "with open('/Users/nelly/Galvanize/Capstone/Electricity-load-prediction/data/house_1/4app_train.pkl') as f:\n",
    "    four_app_train = pk.load(f)\n",
    "with open('/Users/nelly/Galvanize/Capstone/Electricity-load-prediction/data/house_1/4app_test.pkl') as f:\n",
    "    four_app_test = pk.load(f)\n",
    "\n",
    "four_app_train.fillna(value = 0,inplace = True)\n",
    "four_app_test.fillna(value = 0,inplace = True)\n",
    "X_train = four_app_train[['channel_12']].values\n",
    "X_test = four_app_test[['channel_12']].values\n",
    "my_HMM = HMM(X_test, X_train,2)\n",
    "my_HMM.run()\n",
    "\n"
   ]
  },
  {
   "cell_type": "code",
   "execution_count": 7,
   "metadata": {
    "collapsed": true
   },
   "outputs": [],
   "source": [
    "apps = four_app_train.columns[::2]"
   ]
  },
  {
   "cell_type": "code",
   "execution_count": 11,
   "metadata": {},
   "outputs": [
    {
     "name": "stdout",
     "output_type": "stream",
     "text": [
      "Model fitting for channel_12 \n",
      "\n",
      "fitting to HMM and decoding ...\n",
      "done\n",
      "Accuracy for the model with 2 hidden states is: 0.964702444203\n",
      "\n",
      "\n",
      "Model fitting for channel_5 \n",
      "\n",
      "fitting to HMM and decoding ...\n",
      "done\n",
      "Accuracy for the model with 2 hidden states is: 1.12192445857\n",
      "\n",
      "\n",
      "Model fitting for channel_7 \n",
      "\n",
      "fitting to HMM and decoding ...\n",
      "done\n",
      "Accuracy for the model with 2 hidden states is: 0.886191376641\n",
      "\n",
      "\n",
      "Model fitting for channel_6 \n",
      "\n",
      "fitting to HMM and decoding ...\n",
      "done\n",
      "Accuracy for the model with 2 hidden states is: 1.06490484749\n",
      "\n",
      "\n"
     ]
    }
   ],
   "source": [
    "for app in apps:\n",
    "    X_train = four_app_train[[app]].values\n",
    "    X_test = four_app_test[[app]].values\n",
    "    my_HMM = HMM(X_test, X_train, 2)\n",
    "    print \"Model fitting for {} \\n\".format(app)\n",
    "    my_HMM.run()\n",
    "    print \"\\n\""
   ]
  },
  {
   "cell_type": "code",
   "execution_count": 14,
   "metadata": {},
   "outputs": [
    {
     "name": "stdout",
     "output_type": "stream",
     "text": [
      "fitting to HMM and decoding ...\n",
      "done\n",
      "channel_12 LogProb:  -40081.1778541\n",
      "channel_5 LogProb:  276070.45789\n",
      "channel_6 LogProb:  -292203.843297\n",
      "channel_7 LogProb:  -347160.617802\n"
     ]
    }
   ],
   "source": [
    "X_train = four_app_train[['channel_5']].values\n",
    "X_test_12 = four_app_test[['channel_12']].values\n",
    "X_test_5 = four_app_test[['channel_5']].values\n",
    "X_test_6 = four_app_test[['channel_6']].values\n",
    "X_test_7 = four_app_test[['channel_7']].values\n",
    "\n",
    "my_HMM = HMM(X_test, X_train, 2)\n",
    "my_HMM.fit_HMM()\n",
    "\n",
    "print \"channel_12 LogProb: \", my_HMM.model.score(X_test_12)\n",
    "print \"channel_5 LogProb: \", my_HMM.model.score(X_test_5)\n",
    "print \"channel_6 LogProb: \", my_HMM.model.score(X_test_6)\n",
    "print \"channel_7 LogProb: \", my_HMM.model.score(X_test_7)"
   ]
  },
  {
   "cell_type": "code",
   "execution_count": null,
   "metadata": {
    "collapsed": true
   },
   "outputs": [],
   "source": []
  }
 ],
 "metadata": {
  "kernelspec": {
   "display_name": "Python 3",
   "language": "python",
   "name": "python3"
  },
  "language_info": {
   "codemirror_mode": {
    "name": "ipython",
    "version": 3
   },
   "file_extension": ".py",
   "mimetype": "text/x-python",
   "name": "python",
   "nbconvert_exporter": "python",
   "pygments_lexer": "ipython3",
   "version": "3.6.1"
  }
 },
 "nbformat": 4,
 "nbformat_minor": 1
}
